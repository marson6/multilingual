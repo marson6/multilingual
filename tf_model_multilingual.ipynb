{
 "cells": [
  {
   "cell_type": "code",
   "execution_count": 1,
   "metadata": {
    "uuid": "db067452-2d2c-473a-9058-a633592a316a"
   },
   "outputs": [],
   "source": [
    "import numpy as np\n",
    "import pandas as pd\n",
    "#from tqdm import tqdm\n",
    "#from keras import backend as K\n",
    "from scipy.signal import resample\n",
    "from tensorflow.keras.layers import *\n",
    "from tensorflow.keras.models import Model,Sequential\n",
    "from tensorflow.keras.optimizers import Adam\n",
    "from tensorflow.keras.utils import to_categorical\n",
    "#from sklearn.model_selection import StratifiedKFold\n",
    "from tensorflow.keras.callbacks import EarlyStopping, ModelCheckpoint, ReduceLROnPlateau\n",
    "from tensorflow.keras.constraints import max_norm\n",
    "import random\n",
    "import time\n",
    "import gc\n",
    "import spafe\n",
    "\n"
   ]
  },
  {
   "cell_type": "code",
   "execution_count": null,
   "metadata": {},
   "outputs": [],
   "source": [
    "import vggish_params\n",
    "from mel_features import log_mel_spectrogram\n",
    "from tensorflow.keras.callbacks import CSVLogger\n",
    "\n",
    "num_ceps = 13\n",
    "low_freq = 20\n",
    "high_freq = 4000\n",
    "nfilts = 24\n",
    "nfft = 512\n",
    "dct_type = 2,\n",
    "use_energy = False,\n",
    "lifter = 5\n",
    "normalize = True\n"
   ]
  },
  {
   "cell_type": "code",
   "execution_count": 2,
   "metadata": {
    "uuid": "da604c9c-4ddf-46bf-a968-52b4e9ad6242"
   },
   "outputs": [],
   "source": [
    "\n",
    "from scipy.io import wavfile\n",
    "import matplotlib.pyplot as plt\n",
    "import wavio\n",
    "import zipfile"
   ]
  },
  {
   "cell_type": "code",
   "execution_count": 3,
   "metadata": {
    "uuid": "4f3a6403-d52d-4e3e-9d74-65e4177e31e3"
   },
   "outputs": [],
   "source": [
    "from spafe.features.rplp import rplp, plp\n",
    "from spafe.features.gfcc import gfcc\n",
    "from spafe.features.mfcc import mfcc\n",
    "from spafe.features.ngcc import ngcc\n",
    "from spafe.features.lfcc import lfcc\n",
    "from spafe.features.bfcc import bfcc\n",
    "from spafe.features.msrcc import msrcc\n",
    "from spafe.features.psrcc import psrcc\n",
    "from spafe.features.lpc import lpc, lpcc\n",
    "from spafe.utils import vis\n",
    "import mel_features"
   ]
  },
  {
   "cell_type": "code",
   "execution_count": 4,
   "metadata": {
    "uuid": "5f0ea862-e705-4879-8e47-b10209a84434"
   },
   "outputs": [
    {
     "name": "stdout",
     "output_type": "stream",
     "text": [
      "8\n"
     ]
    }
   ],
   "source": [
    "from joblib import Parallel, delayed\n",
    "import multiprocessing\n",
    "import time\n",
    "num_cores = multiprocessing.cpu_count()\n",
    "print(num_cores)"
   ]
  },
  {
   "cell_type": "code",
   "execution_count": 6,
   "metadata": {
    "uuid": "0f543ba3-26e6-43bc-9458-322fbe272478"
   },
   "outputs": [],
   "source": []
  },
  {
   "cell_type": "code",
   "execution_count": 7,
   "metadata": {
    "uuid": "cf340b4e-1169-4796-a8e0-181165c81344"
   },
   "outputs": [
    {
     "name": "stdout",
     "output_type": "stream",
     "text": [
      "12320 4976 7344\n",
      "4863 4863\n",
      "7344 7344\n",
      "CPU times: user 26 s, sys: 5.15 s, total: 31.1 s\n",
      "Wall time: 6min 7s\n"
     ]
    }
   ],
   "source": [
    "%%time\n",
    "\n",
    "\n",
    "z = zipfile.ZipFile(\"../../train_fs.zip\", \"r\") ##训练集\n",
    "fn_list = z.namelist()\n",
    "def get_wav(fn):\n",
    "    content = z.read(fn)\n",
    "    with open('./tmp.wav','wb') as f:\n",
    "        f.write(content)\n",
    "    w =  wavio.read('./tmp.wav')\n",
    "    return w.rate ,w.data.reshape(w.data.shape[0])\n",
    "\n",
    "L = 51200\n",
    "y_train = []\n",
    "x_train = []\n",
    "new_sample_rate = 4000\n",
    "fn_list =[i for i in fn_list if 'wav' in i]\n",
    "train_fn = [i for i in fn_list if 'dev' not in i and 'wav' in i]\n",
    "dev_fn = [i for i in fn_list if 'dev'  in i]\n",
    "print(len(fn_list),len(train_fn),len(dev_fn))\n",
    "\n",
    "for fname in  train_fn:\n",
    "    try:\n",
    "        #samples, sample_rate = sf.read(fname )\n",
    "        #samples = samples*32768\n",
    "        sample_rate, samples = get_wav(fname)\n",
    "        if sample_rate!=16000:\n",
    "            print(fname)\n",
    "    except:\n",
    "        continue\n",
    "    label = int( fname.split('/')[-1].split('-')[0][2:])\n",
    "    x_train.append(samples)\n",
    "    y_train.append(label)\n",
    "print(len(x_train),len(y_train))\n",
    "\n",
    "y_dev = []\n",
    "x_dev = []\n",
    "for fname in  dev_fn:\n",
    "    try:\n",
    "        sample_rate, samples = get_wav(fname)\n",
    "    except:\n",
    "        continue\n",
    "    label = int( fname.split('/')[-1].split('-')[0][2:])\n",
    "    x_dev.append(samples)\n",
    "    y_dev.append(label)\n",
    "print(len(x_dev),len(y_dev))"
   ]
  },
  {
   "cell_type": "code",
   "execution_count": 8,
   "metadata": {
    "uuid": "c07d7e4b-4223-4c53-8bb3-5f62db78def1"
   },
   "outputs": [],
   "source": []
  },
  {
   "cell_type": "code",
   "execution_count": 6,
   "metadata": {
    "uuid": "40849c72-032b-48cc-97a2-7dd5041eb9cd"
   },
   "outputs": [],
   "source": []
  },
  {
   "cell_type": "code",
   "execution_count": 9,
   "metadata": {
    "uuid": "5f6b918e-332c-43eb-b9bc-ebed01552423"
   },
   "outputs": [
    {
     "name": "stdout",
     "output_type": "stream",
     "text": [
      "7541\n",
      "CPU times: user 9.59 s, sys: 2.11 s, total: 11.7 s\n",
      "Wall time: 2min 55s\n"
     ]
    }
   ],
   "source": [
    "%%time\n",
    "z = zipfile.ZipFile(\"../../test_fs.zip\", \"r\") ##测试集\n",
    "fn_list = z.namelist()\n",
    "def get_wav(fn):\n",
    "    content = z.read(fn)\n",
    "    with open('./tmp.wav','wb') as f:\n",
    "        f.write(content)\n",
    "    w =  wavio.read('./tmp.wav')\n",
    "    return w.rate ,w.data.reshape(w.data.shape[0])\n",
    "x_test = []\n",
    "test_fn = [i for i in fn_list if 'test'  in i and 'wav' in i]\n",
    "\n",
    "for fname in  test_fn:\n",
    "    try:\n",
    "        sample_rate, samples = get_wav(fname)\n",
    "    except:\n",
    "        continue\n",
    "    x_test.append(samples)\n",
    "print(len(x_test))"
   ]
  },
  {
   "cell_type": "code",
   "execution_count": null,
   "metadata": {
    "uuid": "03bb6985-77e5-45bb-b327-a4225676704b"
   },
   "outputs": [],
   "source": []
  },
  {
   "cell_type": "code",
   "execution_count": 10,
   "metadata": {
    "uuid": "973544cf-24fe-427b-9593-6367b47dd603"
   },
   "outputs": [
    {
     "name": "stdout",
     "output_type": "stream",
     "text": [
      "(51200,)\n"
     ]
    },
    {
     "data": {
      "image/png": "[encoded data removed]",
      "text/plain": [
       "<Figure size 432x288 with 1 Axes>"
      ]
     },
     "metadata": {
      "needs_background": "light"
     },
     "output_type": "display_data"
    },
    {
     "name": "stdout",
     "output_type": "stream",
     "text": [
      "(318, 13)\n"
     ]
    }
   ],
   "source": [
    "print(x_dev[0].shape)\n",
    "rplps = bfcc(x_dev[0], 16000, 13)\n",
    "vis.visualize_features(rplps, 'RPLP Coefficient Index', 'Frame Index')\n",
    "print(rplps.shape)"
   ]
  },
  {
   "cell_type": "code",
   "execution_count": 11,
   "metadata": {
    "uuid": "28cdb159-5faa-44b8-b287-1237a5625acb"
   },
   "outputs": [],
   "source": []
  },
  {
   "cell_type": "code",
   "execution_count": null,
   "metadata": {
    "uuid": "658377d3-4ff8-42a9-9b8f-85970954a40e"
   },
   "outputs": [],
   "source": []
  },
  {
   "cell_type": "code",
   "execution_count": 12,
   "metadata": {
    "uuid": "083f5561-7275-4172-9395-1c6016c0603e"
   },
   "outputs": [],
   "source": [
    "import random\n",
    "L = 51200\n",
    "lg_list = [len(i) for i in x_dev]\n",
    "\n",
    "\n",
    "def pad_audio(samples):\n",
    "    if len(samples) >= L: return samples\n",
    "    else: return np.pad(samples, pad_width=(L - len(samples), 0), mode='constant', constant_values=(0, 0))\n"
   ]
  },
  {
   "cell_type": "code",
   "execution_count": 13,
   "metadata": {
    "uuid": "727f2c18-d59d-4d68-9922-68231d523bc6"
   },
   "outputs": [
    {
     "name": "stdout",
     "output_type": "stream",
     "text": [
      "4863 4863\n"
     ]
    }
   ],
   "source": [
    "##随机打乱\n",
    "idx=np.arange(len(x_train))  \n",
    "np.random.shuffle(idx) \n",
    "x_train = [x_train[i]  for i in idx]\n",
    "y_train = [y_train[i]  for i in idx]\n",
    "print(len(x_train),len(y_train))"
   ]
  },
  {
   "cell_type": "code",
   "execution_count": 14,
   "metadata": {
    "uuid": "1aef0951-0313-437b-923e-78e28d231a8a"
   },
   "outputs": [],
   "source": []
  },
  {
   "cell_type": "code",
   "execution_count": null,
   "metadata": {
    "uuid": "a6ec7d27-9d21-4f73-ad8b-2dc3e5d3f884"
   },
   "outputs": [],
   "source": []
  },
  {
   "cell_type": "code",
   "execution_count": 15,
   "metadata": {
    "uuid": "46f6ffe6-a420-4076-8789-0ae0be7d9e16"
   },
   "outputs": [],
   "source": [
    "\n",
    "def get_feat(samples,method=bfcc):\n",
    "    ###在提取特征后 用vggish思路分成3个0.96秒frame，不用结果稍差一点点\n",
    "    method = m\n",
    "    if method.__name__=='lpc'  or 'plp' in m.__name__ :\n",
    "        samples = lpc(sig=samples, fs=16000, num_ceps=num_ceps)\n",
    "    elif method.__name__ == 'log_mel_spectrogram':\n",
    "        samples = log_mel_spectrogram(\n",
    "          samples  ,\n",
    "          audio_sample_rate=16000,\n",
    "          log_offset=vggish_params.LOG_OFFSET,\n",
    "          window_length_secs=vggish_params.STFT_WINDOW_LENGTH_SECONDS,\n",
    "          hop_length_secs=vggish_params.STFT_HOP_LENGTH_SECONDS,\n",
    "          num_mel_bins=40,\n",
    "          lower_edge_hertz=20,\n",
    "          upper_edge_hertz=4000)        \n",
    "    elif method.__name__=='lpcc':\n",
    "        samples = lpcc(sig=samples, fs=16000, num_ceps=num_ceps, lifter=0, normalize=True)\n",
    "    else:\n",
    "        samples = method(sig=samples,\n",
    "             fs=16000,\n",
    "             num_ceps=num_ceps,\n",
    "             nfilts=nfilts,\n",
    "             nfft=nfft,\n",
    "             low_freq=low_freq,\n",
    "             high_freq=high_freq,\n",
    "             dct_type=dct_type,\n",
    "             use_energy=use_energy,\n",
    "             lifter=lifter,\n",
    "             normalize=normalize)\n",
    "    features_sample_rate = 1.0 / vggish_params.STFT_HOP_LENGTH_SECONDS\n",
    "    example_window_length = int(round(\n",
    "      vggish_params.EXAMPLE_WINDOW_SECONDS * features_sample_rate))\n",
    "    example_hop_length = int(round(\n",
    "      vggish_params.EXAMPLE_HOP_SECONDS * features_sample_rate))\n",
    "    samples = mel_features.frame(\n",
    "      samples,\n",
    "      window_length=example_window_length,\n",
    "      hop_length=example_hop_length)\n",
    "    return samples.reshape((samples.shape[1],samples.shape[2],3))  \n",
    "\n",
    "def get_dev_feat(data,method=bfcc,shape=(318, 13,1)):\n",
    "    shape = m_shape\n",
    "    num_features = 51200\n",
    "    shape = (len(data),)+shape\n",
    "    res_data = np.zeros(shape)\n",
    "\n",
    "    for i in range(len(data)):\n",
    "        d = data[i] #/32768\n",
    "        tmp = np.zeros((res_data.shape[1:]))\n",
    "        lg = 51200\n",
    "        n = np.random.randint(0,num_features-lg+1)\n",
    "        d = d[n:n+lg]\n",
    "        samples = pad_audio(d)\n",
    "        samples = samples-1 + 2*np.random.random(len(samples))\n",
    "\n",
    "        spectrogram = get_feat(samples,method=method)\n",
    "        res_data[i,:,:,:] = spectrogram \n",
    "    return res_data    \n",
    "def get_train_feat(data,method=bfcc,shape=(318, 13,1)):\n",
    "    shape = m_shape\n",
    "\n",
    "    num_features = 51200\n",
    "    #训练集随机截取五次\n",
    "    num_iter = 5\n",
    "    shape = (len(data)*5,)+shape\n",
    "\n",
    "    res_data = np.zeros(shape)\n",
    "    num = 0\n",
    "    for i in range(len(data)):\n",
    "        d = data[i] #/32768\n",
    "        lg = 51200\n",
    "        samples = pad_audio(d)\n",
    "        samples = samples-1 + 2*np.random.random(len(samples))\n",
    "\n",
    "        for i in range(num_iter):\n",
    "            n = np.random.randint(0,len(samples)-lg+1)\n",
    "            t_sample = samples[n:n+lg] \n",
    "            spectrogram = get_feat(t_sample,method=method)\n",
    "            res_data[num,:,:,:] = spectrogram\n",
    "            num+=1\n",
    "        \n",
    "    return res_data \n"
   ]
  },
  {
   "cell_type": "code",
   "execution_count": null,
   "metadata": {
    "uuid": "ad27962b-d5b3-46f5-98d8-d68b160aacb9"
   },
   "outputs": [],
   "source": []
  },
  {
   "cell_type": "code",
   "execution_count": 16,
   "metadata": {
    "uuid": "ae4369de-44b4-458e-b265-6f8d3a39960e"
   },
   "outputs": [],
   "source": []
  },
  {
   "cell_type": "code",
   "execution_count": 17,
   "metadata": {
    "uuid": "a0de28b1-91aa-49db-9270-f64f796c811d"
   },
   "outputs": [],
   "source": []
  },
  {
   "cell_type": "code",
   "execution_count": 18,
   "metadata": {
    "uuid": "5ea1b53a-667c-4ed3-8af8-58757fba80c7"
   },
   "outputs": [],
   "source": [
    "#训练集随机截取五次\n",
    "y_train1 = []\n",
    "for i in y_train:\n",
    "    for n in range(5):\n",
    "        y_train1.append(i)"
   ]
  },
  {
   "cell_type": "code",
   "execution_count": 19,
   "metadata": {
    "uuid": "86e75454-50d3-436d-9408-f1ae0c1aafd0"
   },
   "outputs": [],
   "source": [
    "def block(input,kernel_size=3):\n",
    "    x0 = BatchNormalization()(input)\n",
    "\n",
    "    x0 = Conv2D(filters=128, kernel_size=kernel_size, activation='relu', padding='same')(x0)\n",
    "    x0 = SpatialDropout2D(0.2)(x0)\n",
    "    x0 = Masking(mask_value=0.0)(x0)\n",
    "    x1 = Conv2D(filters=128, kernel_size=kernel_size, activation='relu', padding='same')(x0)\n",
    "    x1 = BatchNormalization()(x1)\n",
    "\n",
    "    \n",
    "    \n",
    "    x2 = Conv2D(filters=128, kernel_size=kernel_size, activation='relu', padding='same')(x1)\n",
    "    x2 = x1+x2\n",
    "    x2 = BatchNormalization()(x2)\n",
    "    #shortcut = Conv2D(128, kernel_size=3, padding='same')(x2)\n",
    "\n",
    "    \n",
    "    x3 = Conv2D(filters=128, kernel_size=kernel_size, activation='relu', padding='same')(x2)\n",
    "    x3 = BatchNormalization()(x3)\n",
    "    x4 = Conv2D(filters=128, kernel_size=kernel_size, activation='relu', padding='same')(x3)\n",
    "    x4 = x3+x4+x2\n",
    "    x4 = BatchNormalization()(x4)    \n",
    "    \n",
    "    n_maps = 128\n",
    "    x4 = Conv2D(filters=n_maps, kernel_size=kernel_size, activation='relu', padding='same')(x4)\n",
    "    x4 = BatchNormalization()(x4)   \n",
    "    \n",
    "    x5 = Conv2D(filters=n_maps, kernel_size=kernel_size, activation='relu', padding='same')(x4)\n",
    "    x5 = BatchNormalization()(x5)\n",
    "    x6 = Conv2D(filters=n_maps, kernel_size=kernel_size, activation='relu', padding='same')(x5)\n",
    "    x6 = x5+x6+x4\n",
    "    x6 = BatchNormalization()(x6)   \n",
    "    \n",
    "    n_maps = 128\n",
    "    x6 = Conv2D(filters=n_maps, kernel_size=kernel_size, activation='relu', padding='same')(x6)\n",
    "    x6 = BatchNormalization()(x6)   \n",
    "    \n",
    "    x7 = Conv2D(filters=n_maps, kernel_size=kernel_size, activation='relu', padding='same')(x6)\n",
    "    x7 = BatchNormalization()(x7)\n",
    "    x8 = Conv2D(filters=n_maps, kernel_size=kernel_size, activation='relu', padding='same')(x7)\n",
    "    x8 = x7+x8+x6\n",
    "    x8 = BatchNormalization()(x8)   \n",
    "    \n",
    "    x9 = Conv2D(filters=n_maps, kernel_size=kernel_size, activation='relu', padding='same')(x8)\n",
    "    x9 = BatchNormalization()(x9)    \n",
    "    x = GlobalAveragePooling2D()(x9)\n",
    "    return x\n",
    "\n",
    "\n",
    "def Net(shape=(158, 40,1)):\n",
    "        #input_plp = Input(shape= (326, 13,1))\n",
    "        #input_mel =  Input(shape= (158, 40,1))\n",
    "        input = Input(shape=shape)\n",
    "        xx1 = block(input,kernel_size=3)  \n",
    "\n",
    "        #xx2 = block(input,kernel_size=5)    \n",
    "        #x = Concatenate()([xx1,xx2])\n",
    "        x = Dense(20, activation='softmax')(xx1)\n",
    "        model = Model([input], x)\n",
    "        return model"
   ]
  },
  {
   "cell_type": "code",
   "execution_count": 20,
   "metadata": {
    "uuid": "8ee2f185-b825-4328-8d76-ca54bf801cef"
   },
   "outputs": [],
   "source": [
    "##参考开源任意epochs下学习率\n",
    "\n",
    "from tensorflow.python.keras.callbacks import Callback\n",
    "from tensorflow.python.keras import backend as K\n",
    "import numpy as np\n",
    "import argparse\n",
    " \n",
    " \n",
    "parser = argparse.ArgumentParser()\n",
    "parser.add_argument('--lr_decay_epochs', type=list, default=[12, 18, 25], help=\"For MultiFactorScheduler step\")\n",
    "parser.add_argument('--lr_decay_factor', type=float, default=0.1)\n",
    "args, _ = parser.parse_known_args()\n",
    " \n",
    " \n",
    "def get_lr_scheduler(args):\n",
    "    lr_scheduler = MultiStepLR(args=args)\n",
    "    return lr_scheduler\n",
    " \n",
    " \n",
    "class MultiStepLR(Callback):\n",
    "    \"\"\"Learning rate scheduler.\n",
    "    Arguments:\n",
    "        args: parser_setting\n",
    "        verbose: int. 0: quiet, 1: update messages.\n",
    "    \"\"\"\n",
    " \n",
    "    def __init__(self, args, verbose=0):\n",
    "        super(MultiStepLR, self).__init__()\n",
    "        self.args = args\n",
    "        self.steps = args.lr_decay_epochs\n",
    "        self.factor = args.lr_decay_factor\n",
    "        self.verbose = verbose\n",
    " \n",
    "    def on_epoch_begin(self, epoch, logs=None):\n",
    "        if not hasattr(self.model.optimizer, 'lr'):\n",
    "            raise ValueError('Optimizer must have a \"lr\" attribute.')\n",
    "        lr = self.schedule(epoch)\n",
    "        if not isinstance(lr, (float, np.float32, np.float64)):\n",
    "            raise ValueError('The output of the \"schedule\" function '\n",
    "                             'should be float.')\n",
    "        K.set_value(self.model.optimizer.lr, lr)\n",
    "        print(\"learning rate: {:.7f}\".format(K.get_value(self.model.optimizer.lr)).rstrip('0'))\n",
    "        if self.verbose > 0:\n",
    "            print('\\nEpoch %05d: MultiStepLR reducing learning '\n",
    "                  'rate to %s.' % (epoch + 1, lr))\n",
    " \n",
    "    def schedule(self, epoch):\n",
    "        lr = K.get_value(self.model.optimizer.lr)\n",
    "        for i in range(len(self.steps)):\n",
    "            if epoch == self.steps[i]:\n",
    "                lr = lr * self.factor\n",
    " \n",
    "        return lr\n",
    "\n",
    "lr_scheduler = get_lr_scheduler(args=args)\n"
   ]
  },
  {
   "cell_type": "code",
   "execution_count": 21,
   "metadata": {
    "uuid": "b099256a-3887-4ca2-92ac-11056f9a8ab0"
   },
   "outputs": [],
   "source": [
    "\n",
    "def train(x_train,y_train,x_dev,y_dev,log_fn='log.csv',shape=(158, 40,1),model_fn = '../model/model_mel_valid.h5',lr=False):\n",
    "\n",
    "    csv_logger = CSVLogger(log_fn, append=True, separator=',')\n",
    "\n",
    "\n",
    "    model = Net(shape=shape)\n",
    "    model.compile(loss='categorical_crossentropy',\n",
    "                  optimizer=Adam(),\n",
    "                  metrics=[\"acc\"])\n",
    "\n",
    "    plateau = ReduceLROnPlateau(monitor=\"val_acc\",\n",
    "                                verbose=0,\n",
    "                                mode='max',\n",
    "                                factor=0.1,\n",
    "                                patience=3)\n",
    "    early_stopping = EarlyStopping(monitor='val_acc',\n",
    "                                   verbose=0,\n",
    "                                   mode='max',\n",
    "                                   patience=7)\n",
    "    checkpoint = ModelCheckpoint(model_fn,\n",
    "                                 monitor='val_acc',\n",
    "                                 verbose=0,\n",
    "                                 mode='max',\n",
    "                                 save_best_only=True)\n",
    "    if lr == False:\n",
    "        model.fit(x_train, to_categorical(np.array(y_train)-1,num_classes=20),\n",
    "                  epochs=100,\n",
    "                  batch_size=64,\n",
    "                  verbose=1,\n",
    "                  shuffle=True,\n",
    "                  validation_data=(x_dev, to_categorical( np.array(y_dev)-1,num_classes=20)),\n",
    "                  callbacks=[early_stopping, checkpoint,plateau,csv_logger]) \n",
    "    else:\n",
    "        model.fit(x_train, to_categorical(np.array(y_train)-1,num_classes=20),\n",
    "                  epochs=100,\n",
    "                  batch_size=32,\n",
    "                  verbose=1,\n",
    "                  shuffle=True,\n",
    "                  validation_data=(x_dev, to_categorical( np.array(y_dev)-1,num_classes=20)),\n",
    "                  callbacks=[early_stopping,plateau ,checkpoint,csv_logger,lr_scheduler]) \n",
    "    return model.predict(x_dev)"
   ]
  },
  {
   "cell_type": "code",
   "execution_count": 22,
   "metadata": {
    "uuid": "e336c0c8-b7e8-4f58-a124-0ae0dd89e40c"
   },
   "outputs": [],
   "source": [
    "###多线程构造特征\n",
    "def get_data(x,way=get_dev_feat):\n",
    "    n = int(len(x)/100)  +1\n",
    "\n",
    "    tmp=Parallel(n_jobs=num_cores)( \n",
    "                delayed(way)(d)\n",
    "                for d in [x[i*100:(i+1)*100]  for i in range(n)     ])\n",
    "    tmp = np.vstack(tmp)\n",
    "    return tmp"
   ]
  },
  {
   "cell_type": "code",
   "execution_count": null,
   "metadata": {
    "uuid": "76941770-dc54-448c-af25-32536bf5a740"
   },
   "outputs": [],
   "source": []
  },
  {
   "cell_type": "code",
   "execution_count": null,
   "metadata": {
    "uuid": "dbbe1f34-5d99-4ccb-99b5-1cd06cb95036"
   },
   "outputs": [],
   "source": [
    "##由于机器限制未采用5折交叉验证的方式训练"
   ]
  },
  {
   "cell_type": "code",
   "execution_count": null,
   "metadata": {
    "uuid": "e0060717-38df-465a-9597-592756b2a7be"
   },
   "outputs": [
    {
     "name": "stdout",
     "output_type": "stream",
     "text": [
      "<function ngcc at 0x7faf603a6158>\n",
      "Train on 39003 samples, validate on 7344 samples\n",
      "learning rate: 0.001\n",
      "Epoch 1/100\n",
      "39003/39003 [==============================] - 73s 2ms/sample - loss: 2.2218 - acc: 0.3081 - val_loss: 2.4527 - val_acc: 0.2791\n",
      "learning rate: 0.001\n",
      "Epoch 2/100\n",
      "39003/39003 [==============================] - 60s 2ms/sample - loss: 1.5027 - acc: 0.5236 - val_loss: 1.9153 - val_acc: 0.4144\n",
      "learning rate: 0.001\n",
      "Epoch 3/100\n",
      "39003/39003 [==============================] - 60s 2ms/sample - loss: 1.1137 - acc: 0.6435 - val_loss: 1.0614 - val_acc: 0.6484\n",
      "learning rate: 0.001\n",
      "Epoch 4/100\n",
      "16064/39003 [===========>..................] - ETA: 32s - loss: 0.8670 - acc: 0.7169"
     ]
    }
   ],
   "source": [
    "method_list = [lpc,rplp,lpcc,plp,log_mel_spectrogram, mfcc,gfcc,bfcc,ngcc,lfcc]\n",
    "method_list.reverse()\n",
    "pred_list = []\n",
    "p_list = []\n",
    "for e in range(1):\n",
    "    for m in method_list: \n",
    "        print(m)\n",
    "\n",
    "        if 'lpc' in m.__name__ or 'plp' in m.__name__ : \n",
    "            m_shape = (96,13,3)\n",
    "            x_dev_tmp = get_data(x_dev,get_dev_feat)\n",
    "            x_test_tmp = get_data(x_test,get_dev_feat)\n",
    "            x_train_tmp = get_data(x_train,get_train_feat) \n",
    "        elif 'log_mel_spectrogram' ==  m.__name__:\n",
    "            m_shape = (96,40,3)\n",
    "            x_dev_tmp = get_data(x_dev,get_dev_feat)\n",
    "            x_test_tmp = get_data(x_test,get_dev_feat)\n",
    "            x_train_tmp = get_data(x_train,get_train_feat) \n",
    "        else:\n",
    "            m_shape = (96,13,3)\n",
    "            x_dev_tmp = get_data(x_dev,get_dev_feat)\n",
    "            x_test_tmp = get_data(x_test,get_dev_feat)\n",
    "            x_train_tmp = get_data(x_train,get_train_feat) \n",
    "\n",
    "\n",
    "        \n",
    "        x_train_tmp = np.vstack([x_train_tmp,x_dev_tmp,x_dev_tmp])\n",
    "        y_train_tmp =y_train1+y_dev+y_dev\n",
    "        #y_train_tmp =y_train1\n",
    "        idx=np.arange(len(x_train_tmp))  \n",
    "        np.random.shuffle(idx) \n",
    "        x_train_tmp = x_train_tmp[idx]\n",
    "        y_train_tmp = [y_train_tmp[i]  for i in idx]\n",
    "\n",
    "        name = f'pred{e}_'+m.__name__\n",
    "        locals()[name] = train(x_train_tmp,y_train_tmp,x_dev_tmp,y_dev,\\\n",
    "                         log_fn='log_online.csv',shape=x_train_tmp.shape[1:],model_fn = f'../model/model_{m.__name__}_3chh_{e}.h5',lr=True\n",
    "                         )\n",
    "        p_list.append(locals()[name])\n",
    "        \n",
    "        \n",
    "        pred = np.argmax(locals()[name],axis=1)\n",
    "        pred_max = np.max(locals()[name],axis=1)\n",
    "        index_list = [num for num, i in enumerate(pred_max) if i>0.998]\n",
    "        print(len(index_list))\n",
    "\n",
    "        x_train_tmp = np.vstack([x_train_tmp,x_test_tmp[index_list]])\n",
    "        y_train_tmp =y_train_tmp+[pred[n]+1 for n in index_list  ]\n",
    "\n",
    "        idx=np.arange(len(x_train_tmp))  \n",
    "        np.random.shuffle(idx) \n",
    "        x_train_tmp = x_train_tmp[idx]\n",
    "        y_train_tmp = [y_train_tmp[i]  for i in idx]\n",
    "\n",
    "        name = f'pred{e}_'+m.__name__\n",
    "        locals()[name] = train(x_train_tmp,y_train_tmp,x_dev_tmp,y_dev,\\\n",
    "                         log_fn='log_v1.csv',shape=x_train_tmp.shape[1:],model_fn = f'../model/model_{m.__name__}_3chhh_{e}.h5',lr=True\n",
    "                         )\n",
    "        pred_list.append(locals()[name])"
   ]
  },
  {
   "cell_type": "code",
   "execution_count": null,
   "metadata": {
    "uuid": "7e578f91-46f9-4be0-a1d7-ca5cf18629b8"
   },
   "outputs": [],
   "source": [
    "pred = np.argmax(p_list,axis=1)+1 #原始训练模型结果\n",
    "\n",
    "pred = np.argmax(pred_list,axis=1)+1   #伪标签训练结果\n",
    "\n",
    "sub = pd.read_csv('../../提交样例.csv')\n",
    "sub['label'] = ['L0'+str(i).zfill(2) for i in pred]\n",
    "sub.to_csv('../sub/tf_model_sub.csv',index=None)\n",
    "sub['label'].value_counts()\n"
   ]
  },
  {
   "cell_type": "code",
   "execution_count": null,
   "metadata": {
    "uuid": "3f93a6a0-f585-4987-9500-0b5a427f4c68"
   },
   "outputs": [],
   "source": []
  }
 ],
 "metadata": {
  "kernelspec": {
   "display_name": "Tensorflow 2.0",
   "language": "python",
   "name": "tf2"
  },
  "language_info": {
   "codemirror_mode": {
    "name": "ipython",
    "version": 3
   },
   "file_extension": ".py",
   "mimetype": "text/x-python",
   "name": "python",
   "nbconvert_exporter": "python",
   "pygments_lexer": "ipython3",
   "version": "3.6.9"
  }
 },
 "nbformat": 4,
 "nbformat_minor": 4
}
